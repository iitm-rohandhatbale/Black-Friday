{
 "cells": [
  {
   "cell_type": "code",
   "execution_count": 9,
   "metadata": {},
   "outputs": [],
   "source": [
    "def preprocessing_data(df):\n",
    "    \n",
    "    import pandas as pd\n",
    "    import numpy as np\n",
    "    \n",
    "    df['Product_Category_2'] = df.Product_Category_2.fillna(999)\n",
    "    df['Product_Category_3'] = df.Product_Category_3.fillna(999)\n",
    "    \n",
    "    df['Product_ID'] = df.Product_ID.str[1:]\n",
    "    \n",
    "    var = ['Gender','Age','Occupation','City_Category','Stay_In_Current_City_Years','Product_ID']\n",
    "    \n",
    "    from sklearn.preprocessing import LabelEncoder\n",
    "    for label in var:\n",
    "        df[label] = LabelEncoder().fit_transform(df[label])\n",
    "        \n",
    "    X_test= df.drop(['User_ID'],axis = 1)\n",
    "    \n",
    "    return X_test"
   ]
  },
  {
   "cell_type": "code",
   "execution_count": 13,
   "metadata": {},
   "outputs": [],
   "source": [
    "import pandas as pd\n",
    "test = pd.read_csv('test.csv')"
   ]
  },
  {
   "cell_type": "code",
   "execution_count": 14,
   "metadata": {},
   "outputs": [],
   "source": [
    "x_test = preprocessing_data(test)"
   ]
  },
  {
   "cell_type": "code",
   "execution_count": null,
   "metadata": {},
   "outputs": [],
   "source": [
    "from xgboost import XGBRegressor\n"
   ]
  }
 ],
 "metadata": {
  "kernelspec": {
   "display_name": "Python 3",
   "language": "python",
   "name": "python3"
  },
  "language_info": {
   "codemirror_mode": {
    "name": "ipython",
    "version": 3
   },
   "file_extension": ".py",
   "mimetype": "text/x-python",
   "name": "python",
   "nbconvert_exporter": "python",
   "pygments_lexer": "ipython3",
   "version": "3.6.8"
  }
 },
 "nbformat": 4,
 "nbformat_minor": 2
}
